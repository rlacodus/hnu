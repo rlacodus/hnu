{
 "cells": [
  {
   "cell_type": "markdown",
   "id": "49b2bb3f-8a94-4aba-bf67-6b97d86c0047",
   "metadata": {},
   "source": [
    "# OOP (2024 Fall) HW1: 불변 순서쌍을 활용해 가변 순서쌍 만들기 \n",
    "- 이름: 김채연\n",
    "- 학번: 20232416\n",
    "\n"
   ]
  },
  {
   "cell_type": "markdown",
   "id": "9c3c24aa-19ac-4c88-a228-0d1686034a24",
   "metadata": {},
   "source": [
    "-----\n",
    "## Part A: 불변 순서쌍 Pair\n",
    "1. 클래스(또는 정적) 팩토리 메소드 `of`를 를 수정하여 완성하라.\n",
    "    - https://velog.io/@cjh8746/%EC%A0%95%EC%A0%81-%ED%8C%A9%ED%86%A0%EB%A6%AC-%EB%A9%94%EC%84%9C%EB%93%9CStatic-Factory-Method\n",
    "1. 주석 부분을 풀어 제너릭 클래스인 `Pair`가 제너릭 인터페이스 `Comparable`를 구현하도록 완성하라.\n",
    "    - https://docs.oracle.com/en/java/javase/22/docs/api/java.base/java/lang/Comparable.html"
   ]
  },
  {
   "cell_type": "code",
   "execution_count": 11,
   "id": "f2b4bcb7-9d9c-494a-9762-ca0700c6f762",
   "metadata": {},
   "outputs": [],
   "source": [
    "public record Pair<F extends Comparable<F>, S extends Comparable<S>>(F first, S second)\n",
    "        implements Comparable<Pair<F, S>> {\n",
    "\n",
    "    public static <F extends Comparable<F>, S extends Comparable<S>> Pair<F, S> of(F first, S second) {\n",
    "        return new Pair<>(first, second);\n",
    "    }\n",
    "\n",
    "    @Override\n",
    "    public int compareTo(Pair<F, S> other) {\n",
    "        int firstComparison = this.first.compareTo(other.first);\n",
    "        if (firstComparison != 0) {\n",
    "            return firstComparison;\n",
    "        }\n",
    "        return this.second.compareTo(other.second);\n",
    "    }\n",
    "}\n"
   ]
  },
  {
   "cell_type": "code",
   "execution_count": 12,
   "id": "5fb5b2ac-4ac0-40cc-9f87-1675177e4baa",
   "metadata": {},
   "outputs": [],
   "source": [
    "public class Main {\n",
    "    public static void main(String[] args) {\n",
    "        // 왼쪽이 더 큰 경우 (first 비교)\n",
    "        System.out.println(Pair.of(\"banana\", 5).compareTo(Pair.of(\"apple\", 5))); // 예상 출력: 양수 (banana > apple)\n",
    "\n",
    "        // 왼쪽이 더 작은 경우 (first 비교)\n",
    "        System.out.println(Pair.of(\"apple\", 5).compareTo(Pair.of(\"banana\", 5))); // 예상 출력: 음수 (apple < banana)\n",
    "\n",
    "        // first와 second가 모두 같은 경우\n",
    "        System.out.println(Pair.of(\"apple\", 5).compareTo(Pair.of(\"apple\", 5))); // 예상 출력: 0 (first와 second가 같음)\n",
    "    }\n",
    "}\n"
   ]
  },
  {
   "cell_type": "markdown",
   "id": "e2774a64-250e-4e89-a536-5a8ed42bb4ce",
   "metadata": {},
   "source": [
    "------\n",
    "## Part B: 가변 순서쌍 ModifiablePair\n",
    "\n",
    "불변 순서쌍만을 priviate 필드로 갖고 있는 가변 순서쌍 제너릭 클래스를 작성하라\n",
    "\n",
    "가변 순서쌍은 불변 순서쌍과 마찬가지 이름의 getter 메소드가 있고 추가로 setter 메소드도 있다.\n",
    "\n",
    "또, 가변 순서쌍도 불변 순서쌍과 마찬가지로 Comparable 제너릭 인터페이스를 구현하라.\n"
   ]
  },
  {
   "cell_type": "code",
   "execution_count": 13,
   "id": "38eb649f-d95e-40d8-a33b-658df4ee4a7f",
   "metadata": {},
   "outputs": [],
   "source": [
    "class ModifiablePair<F extends Comparable<F>, S extends Comparable<S>> implements Comparable<ModifiablePair<F, S>> {\n",
    "    private Pair<F, S> pair; // 이 필드 외에 다른 필드를 추가하지 말 것\n",
    "\n",
    "    // 생성자\n",
    "    ModifiablePair(F first, S second) {\n",
    "        this.pair = new Pair<>(first, second);\n",
    "    }\n",
    "\n",
    "    // getter들은 pair에게 위임(delegate)하는 방식으로 작성\n",
    "    public F first() {\n",
    "        return pair.first();\n",
    "    }\n",
    "\n",
    "    public S second() {\n",
    "        return pair.second();\n",
    "    }\n",
    "\n",
    "    // setter들은 적절히 정의\n",
    "    public void setFirst(F first) {\n",
    "        this.pair = new Pair<>(first, this.pair.second());\n",
    "    }\n",
    "\n",
    "    public void setSecond(S second) {\n",
    "        this.pair = new Pair<>(this.pair.first(), second);\n",
    "    }\n",
    "\n",
    "    // compareTo는 pair에게 위임(delegate)하는 방식으로 작성\n",
    "    @Override\n",
    "    public int compareTo(ModifiablePair<F, S> other) {\n",
    "        return this.pair.compareTo(new Pair<>(other.first(), other.second()));\n",
    "    }\n",
    "\n",
    "    // toString은 pair에게 위임\n",
    "    @Override\n",
    "    public String toString() {\n",
    "        return pair.toString();\n",
    "    }\n",
    "}\n"
   ]
  },
  {
   "cell_type": "code",
   "execution_count": 14,
   "id": "57af3b33-b9db-43bd-a8e7-5b35d97aaf5e",
   "metadata": {},
   "outputs": [],
   "source": [
    "public class Main {\n",
    "    public static void main(String[] args) {\n",
    "        // ModifiablePair 객체 생성\n",
    "        ModifiablePair<String, Integer> pair = new ModifiablePair<>(\"apple\", 10);\n",
    "\n",
    "        // getter 테스트 (first()와 second())\n",
    "        System.out.println(\"Initial values:\");\n",
    "        System.out.println(\"First: \" + pair.first());  \n",
    "        System.out.println(\"Second: \" + pair.second()); \n",
    "\n",
    "        // setter 테스트 (setFirst와 setSecond)\n",
    "        pair.setFirst(\"banana\");\n",
    "        pair.setSecond(20);\n",
    "\n",
    "        System.out.println(\"After modification:\");\n",
    "        System.out.println(\"First: \" + pair.first());   \n",
    "        System.out.println(\"Second: \" + pair.second());\n",
    "    }\n",
    "}\n"
   ]
  },
  {
   "cell_type": "code",
   "execution_count": 10,
   "id": "e0b9e66e-d3fa-4485-b6f6-4075eca8fcf3",
   "metadata": {},
   "outputs": [],
   "source": [
    "public class Main {\n",
    "    public static void main(String[] args) {\n",
    "        // 첫 번째 테스트: 왼쪽이 더 큰 경우 (first 비교)\n",
    "        System.out.println(ModifiablePair.of(\"car\", 10).compareTo(ModifiablePair.of(\"bike\", 10))); // 예상 출력: 양수 (car > bike)\n",
    "\n",
    "        // 두 번째 테스트: 왼쪽이 더 작은 경우 (first 비교)\n",
    "        System.out.println(ModifiablePair.of(\"bike\", 10).compareTo(ModifiablePair.of(\"car\", 10))); // 예상 출력: 음수 (bike < car)\n",
    "\n",
    "        // 세 번째 테스트: first가 같고 second가 다른 경우 (second 비교)\n",
    "        System.out.println(ModifiablePair.of(\"bus\", 5).compareTo(ModifiablePair.of(\"bus\", 10))); // 예상 출력: 음수 (5 < 10)\n",
    "\n",
    "        // 네 번째 테스트: first와 second가 모두 같은 경우\n",
    "        System.out.println(ModifiablePair.of(\"bus\", 10).compareTo(ModifiablePair.of(\"bus\", 10))); // 예상 출력: 0 (first와 second가 같음)\n",
    "    }\n",
    "}\n"
   ]
  }
 ],
 "metadata": {
  "kernelspec": {
   "display_name": "Java (rjk 2.1.0)",
   "language": "java",
   "name": "rapaio-jupyter-kernel"
  },
  "language_info": {
   "codemirror_mode": "java",
   "file_extension": ".jshell",
   "mimetype": "text/x-java-source",
   "name": "java",
   "nbconvert_exporter": "script",
   "pygments_lexer": "java",
   "version": "22.0.2+9"
  }
 },
 "nbformat": 4,
 "nbformat_minor": 5
}
